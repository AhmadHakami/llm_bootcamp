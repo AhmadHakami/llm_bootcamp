{
 "cells": [
  {
   "cell_type": "markdown",
   "metadata": {},
   "source": [
    "\n",
    "## Hugging Face Agents\n",
    "llm models was trained on diffrent and big datasets but there a problem when you want to to inference these models  on calculation or coding and search, huggingface help to do this because it has access to function call tools and this tools function contains all description to agent so it can help you with your task\n",
    "\n",
    "## Hugging Face Pipeline for Text Generation\n",
    "\n",
    "the pipeline is straightforward method to perform inference tasks with various models including text generation and you can run the pipeline with text generation task as following: \n",
    "\n",
    "```python\n",
    "form transformers import pipeline\n",
    "model = pipeline(task = 'text-generation',\n",
    "                 model = # you can write model name,\n",
    "                 device = 'cuda or cpu') #if you have multi-gpus you can use device_map = 'auto' to infernece it parallel with machine clusters\n",
    "```\n",
    "\n",
    "## HF Inference Endpoints\n",
    "inference endpoints allow users to perform inference tasks on huggingface models using their infrastructure instead of local machines and can use the inferenceclient with your token to access this feature BTW you need to subscribe on hf.co/pricing if you want to run big llm like mixtral 8X7b or llama3.1 8b\n",
    "\n"
   ]
  },
  {
   "cell_type": "markdown",
   "metadata": {},
   "source": [
    "## Give feedback on the image generation and explore different models available on the Hugging Face website\n",
    "\n",
    "i can say the openai clip model is a good model for the period in which these models started to publish and it can be used for simple tasks such as generating images of cars and animals and children drawings\n",
    "\n",
    "but one of the model was good for me and i think it is the best/top one in this task is stable diffusion 3 because i try to use it in a month ago and it was really great because it is also care in the details  and if you zoom in the image you will find it as if it were real image\n"
   ]
  }
 ],
 "metadata": {
  "kernelspec": {
   "display_name": "llm-course",
   "language": "python",
   "name": "python3"
  },
  "language_info": {
   "codemirror_mode": {
    "name": "ipython",
    "version": 3
   },
   "file_extension": ".py",
   "mimetype": "text/x-python",
   "name": "python",
   "nbconvert_exporter": "python",
   "pygments_lexer": "ipython3",
   "version": "3.12.0"
  }
 },
 "nbformat": 4,
 "nbformat_minor": 2
}
